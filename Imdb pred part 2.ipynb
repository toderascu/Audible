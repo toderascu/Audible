{
 "cells": [
  {
   "cell_type": "code",
   "execution_count": 2,
   "metadata": {},
   "outputs": [],
   "source": [
    "import pandas as pd\n",
    "import numpy as np\n",
    "# load the csv file\n",
    "df=pd.read_csv('/Users/Vasile/IMDB_best', sep ='\\t')"
   ]
  },
  {
   "cell_type": "code",
   "execution_count": 3,
   "metadata": {},
   "outputs": [
    {
     "data": {
      "text/html": [
       "<div>\n",
       "<style scoped>\n",
       "    .dataframe tbody tr th:only-of-type {\n",
       "        vertical-align: middle;\n",
       "    }\n",
       "\n",
       "    .dataframe tbody tr th {\n",
       "        vertical-align: top;\n",
       "    }\n",
       "\n",
       "    .dataframe thead th {\n",
       "        text-align: right;\n",
       "    }\n",
       "</style>\n",
       "<table border=\"1\" class=\"dataframe\">\n",
       "  <thead>\n",
       "    <tr style=\"text-align: right;\">\n",
       "      <th></th>\n",
       "      <th>Unnamed: 0</th>\n",
       "      <th>tconst</th>\n",
       "      <th>titleType</th>\n",
       "      <th>primaryTitle</th>\n",
       "      <th>isAdult</th>\n",
       "      <th>startYear</th>\n",
       "      <th>runtimeMinutes</th>\n",
       "      <th>genres</th>\n",
       "      <th>averageRating</th>\n",
       "      <th>numVotes</th>\n",
       "      <th>directors</th>\n",
       "      <th>writers</th>\n",
       "    </tr>\n",
       "  </thead>\n",
       "  <tbody>\n",
       "    <tr>\n",
       "      <th>0</th>\n",
       "      <td>0</td>\n",
       "      <td>tt0000001</td>\n",
       "      <td>short</td>\n",
       "      <td>Carmencita</td>\n",
       "      <td>0</td>\n",
       "      <td>1894.0</td>\n",
       "      <td>1.0</td>\n",
       "      <td>Documentary,Short</td>\n",
       "      <td>5.8</td>\n",
       "      <td>1427</td>\n",
       "      <td>nm0005690</td>\n",
       "      <td>NaN</td>\n",
       "    </tr>\n",
       "    <tr>\n",
       "      <th>1</th>\n",
       "      <td>1</td>\n",
       "      <td>tt0000002</td>\n",
       "      <td>short</td>\n",
       "      <td>Le clown et ses chiens</td>\n",
       "      <td>0</td>\n",
       "      <td>1892.0</td>\n",
       "      <td>5.0</td>\n",
       "      <td>Animation,Short</td>\n",
       "      <td>6.4</td>\n",
       "      <td>169</td>\n",
       "      <td>nm0721526</td>\n",
       "      <td>NaN</td>\n",
       "    </tr>\n",
       "    <tr>\n",
       "      <th>2</th>\n",
       "      <td>2</td>\n",
       "      <td>tt0000003</td>\n",
       "      <td>short</td>\n",
       "      <td>Pauvre Pierrot</td>\n",
       "      <td>0</td>\n",
       "      <td>1892.0</td>\n",
       "      <td>4.0</td>\n",
       "      <td>Animation,Comedy,Romance</td>\n",
       "      <td>6.6</td>\n",
       "      <td>1025</td>\n",
       "      <td>nm0721526</td>\n",
       "      <td>NaN</td>\n",
       "    </tr>\n",
       "    <tr>\n",
       "      <th>3</th>\n",
       "      <td>3</td>\n",
       "      <td>tt0000004</td>\n",
       "      <td>short</td>\n",
       "      <td>Un bon bock</td>\n",
       "      <td>0</td>\n",
       "      <td>1892.0</td>\n",
       "      <td>NaN</td>\n",
       "      <td>Animation,Short</td>\n",
       "      <td>6.4</td>\n",
       "      <td>101</td>\n",
       "      <td>nm0721526</td>\n",
       "      <td>NaN</td>\n",
       "    </tr>\n",
       "    <tr>\n",
       "      <th>4</th>\n",
       "      <td>4</td>\n",
       "      <td>tt0000005</td>\n",
       "      <td>short</td>\n",
       "      <td>Blacksmith Scene</td>\n",
       "      <td>0</td>\n",
       "      <td>1893.0</td>\n",
       "      <td>1.0</td>\n",
       "      <td>Comedy,Short</td>\n",
       "      <td>6.2</td>\n",
       "      <td>1721</td>\n",
       "      <td>nm0005690</td>\n",
       "      <td>NaN</td>\n",
       "    </tr>\n",
       "  </tbody>\n",
       "</table>\n",
       "</div>"
      ],
      "text/plain": [
       "   Unnamed: 0     tconst titleType            primaryTitle  isAdult  \\\n",
       "0           0  tt0000001     short              Carmencita        0   \n",
       "1           1  tt0000002     short  Le clown et ses chiens        0   \n",
       "2           2  tt0000003     short          Pauvre Pierrot        0   \n",
       "3           3  tt0000004     short             Un bon bock        0   \n",
       "4           4  tt0000005     short        Blacksmith Scene        0   \n",
       "\n",
       "   startYear  runtimeMinutes                    genres  averageRating  \\\n",
       "0     1894.0             1.0         Documentary,Short            5.8   \n",
       "1     1892.0             5.0           Animation,Short            6.4   \n",
       "2     1892.0             4.0  Animation,Comedy,Romance            6.6   \n",
       "3     1892.0             NaN           Animation,Short            6.4   \n",
       "4     1893.0             1.0              Comedy,Short            6.2   \n",
       "\n",
       "   numVotes  directors writers  \n",
       "0      1427  nm0005690     NaN  \n",
       "1       169  nm0721526     NaN  \n",
       "2      1025  nm0721526     NaN  \n",
       "3       101  nm0721526     NaN  \n",
       "4      1721  nm0005690     NaN  "
      ]
     },
     "execution_count": 3,
     "metadata": {},
     "output_type": "execute_result"
    }
   ],
   "source": [
    "df.head()"
   ]
  },
  {
   "cell_type": "code",
   "execution_count": 4,
   "metadata": {},
   "outputs": [],
   "source": [
    "# delete the automatically created feature by saving the cvs file\n",
    "df.drop(['Unnamed: 0'], inplace=True, axis=1)"
   ]
  },
  {
   "cell_type": "code",
   "execution_count": 6,
   "metadata": {},
   "outputs": [],
   "source": [
    "df_no_missing= df.dropna()"
   ]
  },
  {
   "cell_type": "code",
   "execution_count": 93,
   "metadata": {},
   "outputs": [
    {
     "data": {
      "text/plain": [
       "(503139, 11)"
      ]
     },
     "execution_count": 93,
     "metadata": {},
     "output_type": "execute_result"
    }
   ],
   "source": [
    "df_no_missing.shape\n",
    "# The dataset was considerably reduced, but we have enough data to train the model"
   ]
  },
  {
   "cell_type": "code",
   "execution_count": 8,
   "metadata": {},
   "outputs": [],
   "source": [
    "df_no_missing.to_csv('IMDB_no_missing', sep='\\t')"
   ]
  },
  {
   "cell_type": "code",
   "execution_count": 11,
   "metadata": {},
   "outputs": [],
   "source": [
    "# drop the the title duplicates\n",
    "movie_df=df_no_missing.drop_duplicates('primaryTitle')"
   ]
  },
  {
   "cell_type": "code",
   "execution_count": 122,
   "metadata": {},
   "outputs": [
    {
     "data": {
      "text/html": [
       "<div>\n",
       "<style scoped>\n",
       "    .dataframe tbody tr th:only-of-type {\n",
       "        vertical-align: middle;\n",
       "    }\n",
       "\n",
       "    .dataframe tbody tr th {\n",
       "        vertical-align: top;\n",
       "    }\n",
       "\n",
       "    .dataframe thead th {\n",
       "        text-align: right;\n",
       "    }\n",
       "</style>\n",
       "<table border=\"1\" class=\"dataframe\">\n",
       "  <thead>\n",
       "    <tr style=\"text-align: right;\">\n",
       "      <th></th>\n",
       "      <th>tconst</th>\n",
       "      <th>titleType</th>\n",
       "      <th>primaryTitle</th>\n",
       "      <th>isAdult</th>\n",
       "      <th>startYear</th>\n",
       "      <th>runtimeMinutes</th>\n",
       "      <th>genres</th>\n",
       "      <th>averageRating</th>\n",
       "      <th>numVotes</th>\n",
       "      <th>directors</th>\n",
       "      <th>writers</th>\n",
       "    </tr>\n",
       "  </thead>\n",
       "  <tbody>\n",
       "    <tr>\n",
       "      <th>8</th>\n",
       "      <td>tt0000009</td>\n",
       "      <td>movie</td>\n",
       "      <td>Miss Jerry</td>\n",
       "      <td>0</td>\n",
       "      <td>1894.0</td>\n",
       "      <td>45.0</td>\n",
       "      <td>Romance</td>\n",
       "      <td>5.5</td>\n",
       "      <td>72</td>\n",
       "      <td>nm0085156</td>\n",
       "      <td>nm0085156</td>\n",
       "    </tr>\n",
       "    <tr>\n",
       "      <th>34</th>\n",
       "      <td>tt0000036</td>\n",
       "      <td>short</td>\n",
       "      <td>Awakening of Rip</td>\n",
       "      <td>0</td>\n",
       "      <td>1896.0</td>\n",
       "      <td>0.0</td>\n",
       "      <td>Drama,Short</td>\n",
       "      <td>4.5</td>\n",
       "      <td>412</td>\n",
       "      <td>nm0005690</td>\n",
       "      <td>nm0410331</td>\n",
       "    </tr>\n",
       "    <tr>\n",
       "      <th>74</th>\n",
       "      <td>tt0000076</td>\n",
       "      <td>short</td>\n",
       "      <td>Exit of Rip and the Dwarf</td>\n",
       "      <td>0</td>\n",
       "      <td>1896.0</td>\n",
       "      <td>1.0</td>\n",
       "      <td>Drama,Short</td>\n",
       "      <td>4.5</td>\n",
       "      <td>368</td>\n",
       "      <td>nm0005690</td>\n",
       "      <td>nm0410331</td>\n",
       "    </tr>\n",
       "    <tr>\n",
       "      <th>89</th>\n",
       "      <td>tt0000091</td>\n",
       "      <td>short</td>\n",
       "      <td>The House of the Devil</td>\n",
       "      <td>0</td>\n",
       "      <td>1896.0</td>\n",
       "      <td>3.0</td>\n",
       "      <td>Horror,Short</td>\n",
       "      <td>6.7</td>\n",
       "      <td>2170</td>\n",
       "      <td>nm0617588</td>\n",
       "      <td>nm0617588</td>\n",
       "    </tr>\n",
       "    <tr>\n",
       "      <th>106</th>\n",
       "      <td>tt0000108</td>\n",
       "      <td>short</td>\n",
       "      <td>Rip Leaving Sleepy Hollow</td>\n",
       "      <td>0</td>\n",
       "      <td>1896.0</td>\n",
       "      <td>1.0</td>\n",
       "      <td>Drama,Short</td>\n",
       "      <td>4.5</td>\n",
       "      <td>378</td>\n",
       "      <td>nm0005690</td>\n",
       "      <td>nm0410331</td>\n",
       "    </tr>\n",
       "  </tbody>\n",
       "</table>\n",
       "</div>"
      ],
      "text/plain": [
       "        tconst titleType               primaryTitle  isAdult  startYear  \\\n",
       "8    tt0000009     movie                 Miss Jerry        0     1894.0   \n",
       "34   tt0000036     short           Awakening of Rip        0     1896.0   \n",
       "74   tt0000076     short  Exit of Rip and the Dwarf        0     1896.0   \n",
       "89   tt0000091     short     The House of the Devil        0     1896.0   \n",
       "106  tt0000108     short  Rip Leaving Sleepy Hollow        0     1896.0   \n",
       "\n",
       "     runtimeMinutes        genres  averageRating  numVotes  directors  \\\n",
       "8              45.0       Romance            5.5        72  nm0085156   \n",
       "34              0.0   Drama,Short            4.5       412  nm0005690   \n",
       "74              1.0   Drama,Short            4.5       368  nm0005690   \n",
       "89              3.0  Horror,Short            6.7      2170  nm0617588   \n",
       "106             1.0   Drama,Short            4.5       378  nm0005690   \n",
       "\n",
       "       writers  \n",
       "8    nm0085156  \n",
       "34   nm0410331  \n",
       "74   nm0410331  \n",
       "89   nm0617588  \n",
       "106  nm0410331  "
      ]
     },
     "execution_count": 122,
     "metadata": {},
     "output_type": "execute_result"
    }
   ],
   "source": [
    "movie_df.head()"
   ]
  },
  {
   "cell_type": "code",
   "execution_count": 13,
   "metadata": {},
   "outputs": [],
   "source": [
    "# clean the multiple categorical features\n",
    "# These are genres, directors, writers\n",
    "# transform the genres feature into dummies\n",
    "cat_genres = movie_df.set_index('tconst').genres.str.split(',', expand=True).stack()\n",
    "cleaned_genres = pd.get_dummies(cat_genres, prefix='g').groupby(level=0).sum()"
   ]
  },
  {
   "cell_type": "code",
   "execution_count": null,
   "metadata": {},
   "outputs": [],
   "source": [
    "#Same process can be applied to directors and writers \n",
    "\n",
    "#cat_directors = movie_df.set_index('tconst').directors.str.split(',', expand=True).stack()\n",
    "#cleaned_directors = pd.get_dummies(cat_directors, prefix='g').groupby(level=0).sum()\n",
    "# I don't have the resources to create dummies for every director and writer and it does not make sense\n",
    "# So, for now, I will drop directors and writers "
   ]
  },
  {
   "cell_type": "code",
   "execution_count": 68,
   "metadata": {},
   "outputs": [],
   "source": [
    "#I drop titleType because I cant seem to find how this parameter could affect the rating of a movie \n",
    "# genres is droped and replaced with the cleaned_genres\n",
    "#for averageRating is created a new target feature\n",
    "reduced_df = movie_df.drop(['writers','directors','genres', 'titleType','averageRating'], axis=1)\n",
    "label =reduced_df['averageRating']\n"
   ]
  },
  {
   "cell_type": "code",
   "execution_count": 135,
   "metadata": {},
   "outputs": [
    {
     "data": {
      "text/html": [
       "<div>\n",
       "<style scoped>\n",
       "    .dataframe tbody tr th:only-of-type {\n",
       "        vertical-align: middle;\n",
       "    }\n",
       "\n",
       "    .dataframe tbody tr th {\n",
       "        vertical-align: top;\n",
       "    }\n",
       "\n",
       "    .dataframe thead th {\n",
       "        text-align: right;\n",
       "    }\n",
       "</style>\n",
       "<table border=\"1\" class=\"dataframe\">\n",
       "  <thead>\n",
       "    <tr style=\"text-align: right;\">\n",
       "      <th></th>\n",
       "      <th>0</th>\n",
       "      <th>1</th>\n",
       "      <th>2</th>\n",
       "      <th>3</th>\n",
       "    </tr>\n",
       "  </thead>\n",
       "  <tbody>\n",
       "    <tr>\n",
       "      <th>0</th>\n",
       "      <td>-0.107296</td>\n",
       "      <td>-4.483606</td>\n",
       "      <td>-0.331080</td>\n",
       "      <td>-0.073883</td>\n",
       "    </tr>\n",
       "    <tr>\n",
       "      <th>1</th>\n",
       "      <td>-0.107296</td>\n",
       "      <td>-4.394225</td>\n",
       "      <td>-1.286437</td>\n",
       "      <td>-0.056885</td>\n",
       "    </tr>\n",
       "    <tr>\n",
       "      <th>2</th>\n",
       "      <td>-0.107296</td>\n",
       "      <td>-4.394225</td>\n",
       "      <td>-1.265206</td>\n",
       "      <td>-0.059085</td>\n",
       "    </tr>\n",
       "    <tr>\n",
       "      <th>3</th>\n",
       "      <td>-0.107296</td>\n",
       "      <td>-4.394225</td>\n",
       "      <td>-1.222746</td>\n",
       "      <td>0.031004</td>\n",
       "    </tr>\n",
       "    <tr>\n",
       "      <th>4</th>\n",
       "      <td>-0.107296</td>\n",
       "      <td>-4.394225</td>\n",
       "      <td>-1.265206</td>\n",
       "      <td>-0.058585</td>\n",
       "    </tr>\n",
       "  </tbody>\n",
       "</table>\n",
       "</div>"
      ],
      "text/plain": [
       "          0         1         2         3\n",
       "0 -0.107296 -4.483606 -0.331080 -0.073883\n",
       "1 -0.107296 -4.394225 -1.286437 -0.056885\n",
       "2 -0.107296 -4.394225 -1.265206 -0.059085\n",
       "3 -0.107296 -4.394225 -1.222746  0.031004\n",
       "4 -0.107296 -4.394225 -1.265206 -0.058585"
      ]
     },
     "execution_count": 135,
     "metadata": {},
     "output_type": "execute_result"
    }
   ],
   "source": [
    "# NUMERIC FEATURE ENGINEERING \n",
    "# apply StandardScaler to remove the mean and scale to unit variance\n",
    "scaler = preprocessing.StandardScaler()\n",
    "\n",
    "df_numeric= reduced_df.select_dtypes(include=['int64','float64'])\n",
    "\n",
    "scaler.fit(df_numeric)\n",
    "df_numeric1 = scaler.transform(df_numeric)\n",
    "df_numeric2 =pd.DataFrame(df_numeric1)\n",
    "df_numeric2.head()"
   ]
  },
  {
   "cell_type": "code",
   "execution_count": 137,
   "metadata": {},
   "outputs": [
    {
     "data": {
      "text/plain": [
       "<matplotlib.axes._subplots.AxesSubplot at 0x11ca10650>"
      ]
     },
     "execution_count": 137,
     "metadata": {},
     "output_type": "execute_result"
    },
    {
     "data": {
      "image/png": "[encoded data removed]",
      "text/plain": [
       "<matplotlib.figure.Figure at 0x11c9f1fd0>"
      ]
     },
     "metadata": {},
     "output_type": "display_data"
    }
   ],
   "source": [
    "import seaborn as sns\n",
    "#correlation between the numerical features\n",
    "corr_df=df_numeric2.corr(method = 'pearson')\n",
    "#plot it\n",
    "fig, ax =plt.subplots(figsize=(8, 6))\n",
    "plt.title(\"Correlation Plot\")\n",
    "sns.heatmap(corr_df, mask=np.zeros_like(corr_df, dtype=np.bool),\n",
    "            cmap=sns.diverging_palette(220, 10, as_cmap=True),\n",
    "            square=True, ax=ax)\n",
    "#there is no strong correlation between any two variables \\ \n",
    "# The strongest one is around 0.2.\n",
    "# All the numeric features are kept because there is no \\\n",
    "# strong evidence of data redundancy."
   ]
  },
  {
   "cell_type": "code",
   "execution_count": 138,
   "metadata": {},
   "outputs": [],
   "source": [
    "# Combine the standardized dataframe with the dummy categorical feature for genres\n",
    "df_combined = np.concatenate([df_numeric2,cleaned_genres], axis=1)"
   ]
  },
  {
   "cell_type": "code",
   "execution_count": 139,
   "metadata": {},
   "outputs": [],
   "source": [
    "# The first two features, representing an ID for each movie and its title, are not used in further analysis\n",
    "# they just have the role to identify the movie\n",
    "X = df_combined1.iloc[:,2:]\n",
    "y = label"
   ]
  },
  {
   "cell_type": "code",
   "execution_count": 140,
   "metadata": {},
   "outputs": [
    {
     "data": {
      "image/png": "[encoded data removed]",
      "text/plain": [
       "<matplotlib.figure.Figure at 0x11ca10090>"
      ]
     },
     "metadata": {},
     "output_type": "display_data"
    }
   ],
   "source": [
    "# IMDB ratings exploration\n",
    "%matplotlib inline\n",
    "import matplotlib.pyplot as plt\n",
    "font = {'fontname':'Arial', 'size':'14'}\n",
    "title_font = { 'weight' : 'bold','size':'16'}\n",
    "plt.hist(label, bins=20)\n",
    "plt.title(\"Distribution of the IMDB ratings\")\n",
    "plt.show()\n",
    "# most of the movies have ratings between 6.5 and 7.5"
   ]
  },
  {
   "cell_type": "code",
   "execution_count": 103,
   "metadata": {},
   "outputs": [],
   "source": [
    "# manual cross validation\n",
    "# I decided to use the K-fold cross validation from sklearn, where K = 10\n",
    "#from sklearn.model_selection import train_test_split\n",
    "#X_train, X_test, y_train, y_test = train_test_split(X, y,test_size=.30)"
   ]
  },
  {
   "cell_type": "code",
   "execution_count": 106,
   "metadata": {},
   "outputs": [
    {
     "name": "stdout",
     "output_type": "stream",
     "text": [
      "1.5938230581903845\n",
      "1.6087013082621986\n"
     ]
    }
   ],
   "source": [
    "#from sklearn.linear_model import LinearRegression \n",
    "#from sklearn.metrics import mean_squared_error\n",
    "#lin_reg = LinearRegression()\n",
    "#lin_reg.fit(X_train, y_train)\n",
    "#pred_train_reg=lin_reg.predict(X_train)\n",
    "#print mean_squared_error(y_train, pred_train_reg)\n",
    "#\n",
    "#pred_test_reg = lin_reg.predict(X_test)\n",
    "#print mean_squared_error(y_test, pred_test_reg)"
   ]
  },
  {
   "cell_type": "code",
   "execution_count": 107,
   "metadata": {},
   "outputs": [
    {
     "name": "stdout",
     "output_type": "stream",
     "text": [
      "1.5938230581903845\n",
      "1.6087013082621986\n"
     ]
    }
   ],
   "source": [
    "#from sklearn.ensemble import RandomForestRegressor\n",
    "#forest_reg = RandomForestRegressor(max_depth=2, random_state=0)\n",
    "#forest_reg = LinearRegression()\n",
    "#forest_reg.fit(X_train, y_train)\n",
    "#pred_train_reg=forest_reg.predict(X_train)\n",
    "#print mean_squared_error(y_train, pred_train_reg)\n",
    "#\n",
    "#pred_test_reg = forest_reg.predict(X_test)\n",
    "#print mean_squared_error(y_test, pred_test_reg)"
   ]
  },
  {
   "cell_type": "code",
   "execution_count": 110,
   "metadata": {},
   "outputs": [],
   "source": [
    "def display_scores(scores):\n",
    "    print(\"Scores:\", scores)\n",
    "    print(\"Mean:\", scores.mean())\n",
    "    print(\"Standard deviation:\", scores.std())"
   ]
  },
  {
   "cell_type": "code",
   "execution_count": 143,
   "metadata": {},
   "outputs": [],
   "source": [
    "# Random Forest with default hyperparameters and mean squared error as a evaluation metric\n",
    "from sklearn.model_selection import cross_val_score\n",
    "forest_reg = RandomForestRegressor()\n",
    "scores = cross_val_score(forest_reg, X, y,\n",
    "                             scoring=\"neg_mean_squared_error\", cv=10)\n",
    "rmse_scores = np.sqrt(-scores)"
   ]
  },
  {
   "cell_type": "code",
   "execution_count": 113,
   "metadata": {},
   "outputs": [
    {
     "name": "stdout",
     "output_type": "stream",
     "text": [
      "('Scores:', array([1.10059998, 1.2700578 , 1.35174732, 1.30277129, 1.12361394,\n",
      "       1.24021387, 1.31758879, 1.30141023, 1.33353308, 1.44411678]))\n",
      "('Mean:', 1.2785653086422435)\n",
      "('Standard deviation:', 0.09779560445654399)\n"
     ]
    }
   ],
   "source": [
    "display_scores(rmse_scores)"
   ]
  },
  {
   "cell_type": "code",
   "execution_count": 144,
   "metadata": {},
   "outputs": [
    {
     "name": "stdout",
     "output_type": "stream",
     "text": [
      "('Scores:', array([1.10059998, 1.2700578 , 1.35174732, 1.30277129, 1.12361394,\n",
      "       1.24021387, 1.31758879, 1.30141023, 1.33353308, 1.44411678]))\n",
      "('Mean:', 1.2785653086422628)\n",
      "('Standard deviation:', 0.09779560445653614)\n"
     ]
    }
   ],
   "source": [
    "# Linear Regression\n",
    "lin_reg = LinearRegression(fit_intercept=True)\n",
    "scores = cross_val_score(lin_reg, X, y,\n",
    "                             scoring=\"neg_mean_squared_error\", cv=10)\n",
    "rmse_scores = np.sqrt(-scores)\n",
    "display_scores(rmse_scores)"
   ]
  },
  {
   "cell_type": "code",
   "execution_count": 121,
   "metadata": {},
   "outputs": [
    {
     "name": "stderr",
     "output_type": "stream",
     "text": [
      "\n",
      "KeyboardInterrupt\n",
      "\n"
     ]
    }
   ],
   "source": [
    "# Hyperparameter search for a Random forest regressor to achieve a better mean squared error\n",
    "# It lasts too long on my computer\n",
    "#from sklearn.model_selection import GridSearchCV\n",
    "#param_grid = [\n",
    "#        {'n_estimators': [3, 10, 30], 'max_features': [2, 4, 6, 8]},\n",
    "#        {'bootstrap': [False], 'n_estimators': [3, 10], 'max_features': [2, 3, 4]},]\n",
    "#forest_reg = RandomForestRegressor()\n",
    "#grid_search = GridSearchCV(forest_reg, param_grid, cv=5,\n",
    "#                               scoring='neg_mean_squared_error')\n",
    "#grid_search.fit(X_transfor, y)\n",
    "#\n"
   ]
  },
  {
   "cell_type": "code",
   "execution_count": 125,
   "metadata": {},
   "outputs": [
    {
     "data": {
      "text/plain": [
       "GridSearchCV(cv=5, error_score='raise',\n",
       "       estimator=Lasso(alpha=1.0, copy_X=True, fit_intercept=True, max_iter=1000,\n",
       "   normalize=False, positive=False, precompute=False, random_state=None,\n",
       "   selection='cyclic', tol=0.0001, warm_start=False),\n",
       "       fit_params=None, iid=True, n_jobs=1,\n",
       "       param_grid=[{'alpha': [0.001, 0.01, 0.1, 1, 10, 100]}],\n",
       "       pre_dispatch='2*n_jobs', refit=True, return_train_score='warn',\n",
       "       scoring='neg_mean_squared_error', verbose=0)"
      ]
     },
     "execution_count": 125,
     "metadata": {},
     "output_type": "execute_result"
    }
   ],
   "source": [
    "# Grid search for Lasso Regression\n",
    "from sklearn.model_selection import GridSearchCV\n",
    "param_grid = [\n",
    "       {'alpha': [0.001, 0.01, 0.1, 1, 10, 100]}]\n",
    "lasso_reg = Lasso()\n",
    "grid_search = GridSearchCV(lasso_reg, param_grid, cv=5,\n",
    "                               scoring='neg_mean_squared_error')\n",
    "grid_search.fit(X, y)"
   ]
  },
  {
   "cell_type": "code",
   "execution_count": 126,
   "metadata": {},
   "outputs": [
    {
     "data": {
      "text/plain": [
       "{'alpha': 0.001}"
      ]
     },
     "execution_count": 126,
     "metadata": {},
     "output_type": "execute_result"
    }
   ],
   "source": [
    "grid_search.best_params_"
   ]
  },
  {
   "cell_type": "code",
   "execution_count": 127,
   "metadata": {},
   "outputs": [
    {
     "name": "stdout",
     "output_type": "stream",
     "text": [
      "('Scores:', array([1.09986666, 1.27071391, 1.3517711 , 1.30274665, 1.12337129,\n",
      "       1.2403042 , 1.31744099, 1.30139405, 1.33341465, 1.44411028]))\n",
      "('Mean:', 1.27851337908407)\n",
      "('Standard deviation:', 0.09794580194764618)\n"
     ]
    }
   ],
   "source": [
    "# Lasso Regression with best alpha\n",
    "lasso_reg = Lasso(alpha=0.001)\n",
    "scores = cross_val_score(lasso_reg, X, y,\n",
    "                             scoring=\"neg_mean_squared_error\", cv=10)\n",
    "rmse_scores = np.sqrt(-scores)\n",
    "display_scores(rmse_scores)"
   ]
  },
  {
   "cell_type": "code",
   "execution_count": 128,
   "metadata": {},
   "outputs": [
    {
     "data": {
      "text/plain": [
       "GridSearchCV(cv=5, error_score='raise',\n",
       "       estimator=Ridge(alpha=1.0, copy_X=True, fit_intercept=True, max_iter=None,\n",
       "   normalize=False, random_state=None, solver='auto', tol=0.001),\n",
       "       fit_params=None, iid=True, n_jobs=1,\n",
       "       param_grid=[{'alpha': [0.0001, 0.001, 0.01, 0.1, 1, 10, 100]}],\n",
       "       pre_dispatch='2*n_jobs', refit=True, return_train_score='warn',\n",
       "       scoring='neg_mean_squared_error', verbose=0)"
      ]
     },
     "execution_count": 128,
     "metadata": {},
     "output_type": "execute_result"
    }
   ],
   "source": [
    "# Grid search for Ridge Regression\n",
    "from sklearn.linear_model import Ridge\n",
    "param_grid = [\n",
    "       {'alpha': [0.0001,0.001, 0.01, 0.1, 1, 10, 100]}]\n",
    "ridge_reg = Ridge()\n",
    "grid_search = GridSearchCV(ridge_reg, param_grid, cv=5,\n",
    "                               scoring='neg_mean_squared_error')\n",
    "grid_search.fit(X, y)"
   ]
  },
  {
   "cell_type": "code",
   "execution_count": 129,
   "metadata": {},
   "outputs": [
    {
     "data": {
      "text/plain": [
       "{'alpha': 100}"
      ]
     },
     "execution_count": 129,
     "metadata": {},
     "output_type": "execute_result"
    }
   ],
   "source": [
    "grid_search.best_params_"
   ]
  },
  {
   "cell_type": "code",
   "execution_count": 130,
   "metadata": {},
   "outputs": [
    {
     "name": "stdout",
     "output_type": "stream",
     "text": [
      "('Scores:', array([1.10049174, 1.27006769, 1.35172734, 1.30276461, 1.12362905,\n",
      "       1.24021557, 1.31758694, 1.30141444, 1.33353519, 1.44412309]))\n",
      "('Mean:', 1.278555565675719)\n",
      "('Standard deviation:', 0.09781230895402943)\n"
     ]
    }
   ],
   "source": [
    "# Ridge Regression with best alpha\n",
    "ridge_reg = Ridge(alpha=100)\n",
    "scores = cross_val_score(ridge_reg, X, y,\n",
    "                             scoring=\"neg_mean_squared_error\", cv=10)\n",
    "rmse_scores = np.sqrt(-scores)\n",
    "display_scores(rmse_scores)"
   ]
  },
  {
   "cell_type": "code",
   "execution_count": null,
   "metadata": {},
   "outputs": [],
   "source": [
    "# Because the dataset is so large, every of my tried algorithms return pretty similar results:\n",
    "# Linear Regression, regularized Lasso and Ridge Regression, and also the Random forest \n",
    " \n",
    "# The mean squared error is 1.278"
   ]
  },
  {
   "cell_type": "code",
   "execution_count": null,
   "metadata": {},
   "outputs": [],
   "source": [
    "# WHAT CAN ALSO BE DONE:\n",
    "# 1. include more categorical features from the other datasets e.g. country of origin or played actors\n",
    "# 2. decide how to use the categorical features for directors and writers, maybe leave only the first writer/director\n",
    "# creating dummies for all of them does not make sense\n",
    "# 3. try out some of the ensemble learning methods\n",
    "# 4. try to impute missing values, not only deleting them\n",
    "# 5. evaluate the models using a different metric, e.g. R^2\n",
    "# 6. determine if the target feature is unbalanced "
   ]
  }
 ],
 "metadata": {
  "kernelspec": {
   "display_name": "Python 2",
   "language": "python",
   "name": "python2"
  },
  "language_info": {
   "codemirror_mode": {
    "name": "ipython",
    "version": 2
   },
   "file_extension": ".py",
   "mimetype": "text/x-python",
   "name": "python",
   "nbconvert_exporter": "python",
   "pygments_lexer": "ipython2",
   "version": "2.7.14"
  }
 },
 "nbformat": 4,
 "nbformat_minor": 2
}
